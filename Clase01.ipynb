{
  "nbformat": 4,
  "nbformat_minor": 0,
  "metadata": {
    "colab": {
      "name": "Clase01.ipynb",
      "provenance": [],
      "authorship_tag": "ABX9TyNsu9vmwtppOGjmpgsK8lqS",
      "include_colab_link": true
    },
    "kernelspec": {
      "name": "python3",
      "display_name": "Python 3"
    },
    "language_info": {
      "name": "python"
    }
  },
  "cells": [
    {
      "cell_type": "markdown",
      "metadata": {
        "id": "view-in-github",
        "colab_type": "text"
      },
      "source": [
        "<a href=\"https://colab.research.google.com/github/monte137/CDD/blob/test/Clase01.ipynb\" target=\"_parent\"><img src=\"https://colab.research.google.com/assets/colab-badge.svg\" alt=\"Open In Colab\"/></a>"
      ]
    },
    {
      "cell_type": "code",
      "execution_count": 1,
      "metadata": {
        "id": "tghVL9BJJ-n7",
        "outputId": "d947be05-d7f9-43ee-f09d-f3ee98974a43",
        "colab": {
          "base_uri": "https://localhost:8080/"
        }
      },
      "outputs": [
        {
          "output_type": "stream",
          "name": "stdout",
          "text": [
            "Modifico en el branch\n"
          ]
        }
      ],
      "source": [
        "print('Modifico en el branch')"
      ]
    },
    {
      "cell_type": "code",
      "source": [
        "print('Mod2')"
      ],
      "metadata": {
        "id": "vTXb2xxPNlBV",
        "outputId": "fefc3b4c-26c4-4b68-82d5-340797473480",
        "colab": {
          "base_uri": "https://localhost:8080/"
        }
      },
      "execution_count": 2,
      "outputs": [
        {
          "output_type": "stream",
          "name": "stdout",
          "text": [
            "Mod2\n"
          ]
        }
      ]
    }
  ]
}